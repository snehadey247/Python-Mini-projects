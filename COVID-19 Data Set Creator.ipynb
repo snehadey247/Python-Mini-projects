{
 "cells": [
  {
   "cell_type": "code",
   "execution_count": 1,
   "metadata": {},
   "outputs": [],
   "source": [
    "from selenium import webdriver\n",
    "import time\n",
    "import pandas as pd\n",
    "import os"
   ]
  },
  {
   "cell_type": "code",
   "execution_count": 2,
   "metadata": {},
   "outputs": [
    {
     "name": "stdout",
     "output_type": "stream",
     "text": [
      "Empty DataFrame\n",
      "Columns: [Rank, Country, Total Cases, New Cases, Deaths, New Deaths, Recovered, Active Cases, Critical]\n",
      "Index: []\n",
      "    Rank Country Total Cases New Cases     Deaths New Deaths   Recovered  \\\n",
      "1                                                                          \n",
      "2                                                                          \n",
      "3      1     USA  23,369,732              389,621             13,816,238   \n",
      "4                                                                          \n",
      "5                                                                          \n",
      "..   ...     ...         ...       ...        ...        ...         ...   \n",
      "232                                                                        \n",
      "233                                                                        \n",
      "234                                                                        \n",
      "235                                                                        \n",
      "236       Total:  92,033,829   +43,442  1,970,575     +1,805  65,882,109   \n",
      "\n",
      "    Active Cases    Critical  \n",
      "1                             \n",
      "2                             \n",
      "3      9,163,873      29,222  \n",
      "4                             \n",
      "5                             \n",
      "..           ...         ...  \n",
      "232                           \n",
      "233                           \n",
      "234                           \n",
      "235                           \n",
      "236               24,181,145  \n",
      "\n",
      "[236 rows x 9 columns]\n",
      "The dataset has been saved at the loction: C:\\Users\\hp\\Covid_Dataset_.csv\n"
     ]
    }
   ],
   "source": [
    "cd=r'C:\\Users\\hp\\Downloads\\chromedriver_win32\\chromedriver(1)'\n",
    "\n",
    "chrome_browser = webdriver.Chrome(cd)\n",
    "chrome_browser.get(\"https://www.worldometers.info/coronavirus/\")\n",
    "time.sleep(15)\n",
    "\n",
    "column_names=['Rank','Country', 'Total Cases', 'New Cases', 'Deaths', 'New Deaths','Recovered', 'Active Cases', 'Critical']\n",
    "df=pd.DataFrame(columns= column_names)\n",
    "print(df)\n",
    "\n",
    "for i in chrome_browser.find_elements_by_xpath('//*[@id=\"main_table_countries_today\"]/tbody/tr'): # tr for each of country\n",
    "    td_list=i.find_elements_by_tag_name('td') # tag name retrieve each piece of info for a country\n",
    "    row=[]\n",
    "    for td in td_list:\n",
    "        row.append(td.text) # creating row ie each country data\n",
    "    data = {}\n",
    "    for j in range(len(df.columns)):\n",
    "        data[df.columns[j]] = row[j] \n",
    "    df = df.append(data, ignore_index=True)\n",
    "\n",
    "df = df.iloc[1:]\n",
    "print(df)\n",
    "\n",
    "base_path='C:\\\\Users\\\\hp'\n",
    "\n",
    "path=os.path.join(base_path,'Covid_Dataset_.csv')\n",
    "#os.mkdir(path)\n",
    "df.to_csv(path, index = False)\n",
    "print(\"The dataset has been saved at the loction: \"+path)\n",
    "chrome_browser.quit()"
   ]
  },
  {
   "cell_type": "code",
   "execution_count": null,
   "metadata": {},
   "outputs": [],
   "source": []
  }
 ],
 "metadata": {
  "kernelspec": {
   "display_name": "Python 3",
   "language": "python",
   "name": "python3"
  },
  "language_info": {
   "codemirror_mode": {
    "name": "ipython",
    "version": 3
   },
   "file_extension": ".py",
   "mimetype": "text/x-python",
   "name": "python",
   "nbconvert_exporter": "python",
   "pygments_lexer": "ipython3",
   "version": "3.7.6"
  }
 },
 "nbformat": 4,
 "nbformat_minor": 4
}
