{
 "cells": [
  {
   "cell_type": "code",
   "execution_count": 1,
   "metadata": {},
   "outputs": [],
   "source": [
    "import os\n",
    "import sys"
   ]
  },
  {
   "cell_type": "code",
   "execution_count": 7,
   "metadata": {},
   "outputs": [
    {
     "name": "stdout",
     "output_type": "stream",
     "text": [
      "\n",
      "Profiles on interface Wi-Fi:\n",
      "\n",
      "Group policy profiles (read only)\n",
      "---------------------------------\n",
      "    <None>\n",
      "\n",
      "User profiles\n",
      "-------------\n",
      "    All User Profile     : sneha\n",
      "    All User Profile     : AndroidAP 2\n",
      "    All User Profile     : Express Wi-Fi by Facebook\n",
      "    All User Profile     : Sneha\n",
      "    All User Profile     : LES-125\n",
      "    All User Profile     : AndroidAP\n",
      "\n",
      "\n",
      " \n",
      "Interface name : Wi-Fi \n",
      "There are 2 networks currently visible. \n",
      "\n",
      "SSID 1 : sneha\n",
      "    Network type            : Infrastructure\n",
      "    Authentication          : WPA2-Personal\n",
      "    Encryption              : CCMP \n",
      "\n",
      "SSID 2 : D-Link_DIR-615\n",
      "    Network type            : Infrastructure\n",
      "    Authentication          : WPA2-Personal\n",
      "    Encryption              : CCMP \n",
      "\n",
      "\n",
      "Enter the preferred Wifi for your connection : sneha\n",
      "\n",
      "\n",
      "Profile for sneha is saved in system\n",
      "Found\n",
      "--------Connecting----------\n",
      "Connection request was completed successfully.\n",
      "\n"
     ]
    }
   ],
   "source": [
    "saved_profiles = os.popen('netsh wlan show profiles').read()           # To get the saved profiles\n",
    "print(saved_profiles)\n",
    "available_profiles = os.popen('netsh wlan show networks').read()       # To get the available profiles\n",
    "print(available_profiles)\n",
    "\n",
    "preferred_ssid=input('Enter the preferred Wifi for your connection : ')\n",
    "\n",
    "response = os.popen(\"netsh wlan disconnect\").read()# To disconnect the present connection and connect to the preferred one\n",
    "print(response)\n",
    "\n",
    "if preferred_ssid not in saved_profiles:\n",
    "    print(\"Profile for \"+preferred_ssid+\" is not saved in system\")\n",
    "    print(\"Sorry but can't establish the connection\")\n",
    "    sys.exit()\n",
    "else:\n",
    "    print(\"Profile for \"+preferred_ssid+\" is saved in system\")\n",
    " \n",
    "\n",
    "while True:   \n",
    "    avail = os.popen('netsh wlan show networks').read()              # To get the available profiles\n",
    "    #sleep(3)\n",
    "    if preferred_ssid in avail:                                      # Checks if the preferred connection is available or not\n",
    "        print('Found')\n",
    "        break\n",
    "    \n",
    "\n",
    "print('--------Connecting----------')    \n",
    "resp = os.popen('netsh wlan connect name='+'\"'+preferred_ssid+'\"').read()\n",
    "print(resp)       \n",
    "\n"
   ]
  },
  {
   "cell_type": "code",
   "execution_count": null,
   "metadata": {},
   "outputs": [],
   "source": []
  }
 ],
 "metadata": {
  "kernelspec": {
   "display_name": "Python 3",
   "language": "python",
   "name": "python3"
  },
  "language_info": {
   "codemirror_mode": {
    "name": "ipython",
    "version": 3
   },
   "file_extension": ".py",
   "mimetype": "text/x-python",
   "name": "python",
   "nbconvert_exporter": "python",
   "pygments_lexer": "ipython3",
   "version": "3.7.6"
  }
 },
 "nbformat": 4,
 "nbformat_minor": 4
}
