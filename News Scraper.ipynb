{
 "cells": [
  {
   "cell_type": "code",
   "execution_count": 1,
   "metadata": {},
   "outputs": [],
   "source": [
    "from bs4 import BeautifulSoup\n",
    "import urllib.request\n",
    "import pandas as pd"
   ]
  },
  {
   "cell_type": "code",
   "execution_count": 2,
   "metadata": {},
   "outputs": [
    {
     "name": "stdout",
     "output_type": "stream",
     "text": [
      "Enter the number of pages: 5\n",
      "Done\n"
     ]
    }
   ],
   "source": [
    "p=int(input(\"Enter the number of pages: \"))\n",
    "\n",
    "\n",
    "titles=[]\n",
    "links=[]\n",
    "for i in range(p):\n",
    "\turl='https://news.ycombinator.com/news?p='+str(i+1)\n",
    "\tr=urllib.request.urlopen(url)\n",
    "\tc=r.read()\n",
    "\tsoup=BeautifulSoup(c,'html.parser')\n",
    "\td=soup.find('table',{'class':'itemlist'}).find_all('a',{'class':'storylink'})\n",
    "\n",
    "\tfor j in d:\n",
    "\t\ttitle=j.text\n",
    "\t\tlink=j.get('href')\n",
    "\t\ttitles.append(title)\n",
    "\t\tlinks.append(link)\n",
    "\n",
    "dic={'news_title':titles,'URL':links}\n",
    "\n",
    "df=pd.DataFrame(dic)\n",
    "\n",
    "#print(df)\n",
    "\n",
    "df.to_csv(\"C:\\\\Users\\\\hp\\\\news.csv\",index=False)\n",
    "print(\"Done\")"
   ]
  },
  {
   "cell_type": "code",
   "execution_count": null,
   "metadata": {},
   "outputs": [],
   "source": []
  }
 ],
 "metadata": {
  "kernelspec": {
   "display_name": "Python 3",
   "language": "python",
   "name": "python3"
  },
  "language_info": {
   "codemirror_mode": {
    "name": "ipython",
    "version": 3
   },
   "file_extension": ".py",
   "mimetype": "text/x-python",
   "name": "python",
   "nbconvert_exporter": "python",
   "pygments_lexer": "ipython3",
   "version": "3.7.6"
  }
 },
 "nbformat": 4,
 "nbformat_minor": 4
}
