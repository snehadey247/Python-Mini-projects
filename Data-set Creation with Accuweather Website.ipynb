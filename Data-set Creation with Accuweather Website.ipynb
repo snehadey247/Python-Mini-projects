{
 "cells": [
  {
   "cell_type": "code",
   "execution_count": 1,
   "metadata": {},
   "outputs": [],
   "source": [
    "from selenium import webdriver\n",
    "import pandas as pd"
   ]
  },
  {
   "cell_type": "code",
   "execution_count": 5,
   "metadata": {},
   "outputs": [
    {
     "name": "stdout",
     "output_type": "stream",
     "text": [
      "Enter the month in small letters :july\n",
      "Enter the year : 2020\n",
      "DONE\n",
      "{'Date': [1, 2, 3, 4, 5, 6, 7, 8, 9, 10, 11, 12, 13, 14, 15, 16, 17, 18, 19, 20, 21, 22, 23, 24, 25, 26, 27, 28, 29, 30, 31], 'High_temp': [36, 37, 36, 35, 32, 33, 33, 36, 35, 35, 35, 35, 33, 35, 34, 34, 34, 36, 35, 34, 32, 31, 28, 32, 35, 36, 35, 35, 33, 35, 36], 'Low_temp': [28, 28, 29, 28, 28, 27, 27, 28, 28, 28, 26, 26, 25, 28, 27, 26, 27, 28, 27, 27, 25, 25, 24, 27, 26, 28, 28, 27, 25, 27, 28], 'Precipitation': [0.0, 0.0, 0.0, 0.0, 21.0, 3.0, 7.0, 0.0, 10.0, 0.0, 27.0, 33.0, 4.0, 1.0, 4.0, 6.0, 0.0, 0.0, 8.0, 18.0, 23.0, 4.0, 56.0, 0.0, 0.0, 0.0, 6.0, 29.0, 50.0, 0.0, 5.0]}\n"
     ]
    }
   ],
   "source": [
    "cd=r'C:\\Users\\hp\\Downloads\\chromedriver_win32\\chromedriver'\n",
    "\n",
    "\n",
    "month=input('Enter the month in small letters : ')\n",
    "year=input('Enter the year : ')\n",
    "\n",
    "chrome_browser = webdriver.Chrome(cd)\n",
    "chrome_browser.get('https://www.accuweather.com/en/in/kolkata/206690/'+month+'-weather/206690?year=2020&view=list')\n",
    "#for mumbai\n",
    "#chrome_browser.get('https://www.accuweather.com/en/in/mumbai/204842/'+month+'-weather/204842?year='+year+'&view=list')\n",
    "\n",
    "data=chrome_browser.find_elements_by_class_name(\"high\")\n",
    "temp_high=[]\n",
    "for i in data:\n",
    "    t=i.get_attribute('textContent')\n",
    "    #print(t[:2])\n",
    "    temp_high.append(int(t[:2]))\n",
    "\n",
    "\n",
    "data=chrome_browser.find_elements_by_class_name(\"low\")#Temp low\n",
    "temp_low=[]\n",
    "for i in data:\n",
    "    t=i.get_attribute('textContent')\n",
    "    temp_low.append(int(t[3:5]))\n",
    "\n",
    "\n",
    "\n",
    "data3=chrome_browser.find_elements_by_xpath(\"//div[@class='info precip']/p[2]\") #Precipitation\n",
    "precip=[]\n",
    "\n",
    "\n",
    "for i in data3:\n",
    "    t=i.get_attribute('textContent')\n",
    "    precip.append(float(t[:2]))\n",
    "\n",
    "\n",
    "date=[]\n",
    "for i in range(len(precip)):\n",
    "    date.append(i+1)\n",
    "\n",
    "\n",
    "d={\"Date\":date,\"High_temp\":temp_high, \"Low_temp\":temp_low, \"Precipitation\": precip}\n",
    "\n",
    "df=pd.DataFrame(d)\n",
    "df.to_csv(r\"C:\\\\Users\\\\hp\\\\kolkata+\"+month+\".csv\",index = False)#replpace kolkata with mumbai for the 2nd dataset\n",
    "\n",
    "print(\"DONE\")\n",
    "print(d)"
   ]
  },
  {
   "cell_type": "code",
   "execution_count": null,
   "metadata": {},
   "outputs": [],
   "source": []
  }
 ],
 "metadata": {
  "kernelspec": {
   "display_name": "Python 3",
   "language": "python",
   "name": "python3"
  },
  "language_info": {
   "codemirror_mode": {
    "name": "ipython",
    "version": 3
   },
   "file_extension": ".py",
   "mimetype": "text/x-python",
   "name": "python",
   "nbconvert_exporter": "python",
   "pygments_lexer": "ipython3",
   "version": "3.7.6"
  }
 },
 "nbformat": 4,
 "nbformat_minor": 4
}
