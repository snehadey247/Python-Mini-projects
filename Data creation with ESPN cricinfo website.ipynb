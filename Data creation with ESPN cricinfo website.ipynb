{
 "cells": [
  {
   "cell_type": "code",
   "execution_count": 1,
   "metadata": {},
   "outputs": [],
   "source": [
    "from bs4 import BeautifulSoup\n",
    "from urllib.request import urlopen"
   ]
  },
  {
   "cell_type": "code",
   "execution_count": 4,
   "metadata": {},
   "outputs": [
    {
     "name": "stdout",
     "output_type": "stream",
     "text": [
      "Empty DataFrame\n",
      "Columns: [pos, team, matches, points, rating]\n",
      "Index: []\n",
      "Done\n"
     ]
    }
   ],
   "source": [
    "pg=urlopen('https://www.espncricinfo.com/rankings/content/page/211271.html')\n",
    "soup=BeautifulSoup(pg,'html.parser')\n",
    "\n",
    "body=soup.find('div',{'class':'ciPhotoContainer'})\n",
    "head=soup.findAll('h3')\n",
    "\n",
    "name=[]\n",
    "for i in head:\n",
    "\tj=i.text\n",
    "\tname.append(j)\n",
    "#print(name)\n",
    "\n",
    "import pandas as pd\n",
    "columns=['pos','team','matches','points','rating']\n",
    "df=pd.DataFrame(columns=columns)\n",
    "print(df)\n",
    "\n",
    "tr_list=soup.findAll('tr')\n",
    "\n",
    "n=0\n",
    "for i in tr_list:\n",
    "\trow=[]\n",
    "\ttd_list=i.findAll('td')\n",
    "\tfor j in td_list:\n",
    "\t\ta=j.text\n",
    "\t\trow.append(a)\n",
    "\t\tdec = {}\n",
    "\ttry:\n",
    "\t\tfor k in range(len(df.columns)):\n",
    "\t\t\tdec[df.columns[k]] = row[k]\n",
    "\t\tdf = df.append(dec, ignore_index=True)\n",
    "\texcept:\n",
    "\t\tdf=pd.DataFrame(columns= columns)\n",
    "\t\ttable_name=name[n]\n",
    "\t\tn=n+1\n",
    "\tdf.to_csv('C:\\\\Users\\\\hp\\\\Cricinfo'+table_name+'.csv', index = False)\n",
    "\n",
    "\n",
    "print(\"Done\")"
   ]
  },
  {
   "cell_type": "code",
   "execution_count": null,
   "metadata": {},
   "outputs": [],
   "source": []
  }
 ],
 "metadata": {
  "kernelspec": {
   "display_name": "Python 3",
   "language": "python",
   "name": "python3"
  },
  "language_info": {
   "codemirror_mode": {
    "name": "ipython",
    "version": 3
   },
   "file_extension": ".py",
   "mimetype": "text/x-python",
   "name": "python",
   "nbconvert_exporter": "python",
   "pygments_lexer": "ipython3",
   "version": "3.7.6"
  }
 },
 "nbformat": 4,
 "nbformat_minor": 4
}
