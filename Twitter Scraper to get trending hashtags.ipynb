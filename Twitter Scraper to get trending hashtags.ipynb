{
 "cells": [
  {
   "cell_type": "code",
   "execution_count": 1,
   "metadata": {},
   "outputs": [],
   "source": [
    "from selenium import webdriver\n",
    "import time\n",
    "import pandas as pd"
   ]
  },
  {
   "cell_type": "code",
   "execution_count": 2,
   "metadata": {},
   "outputs": [
    {
     "name": "stdout",
     "output_type": "stream",
     "text": [
      "The data is stored\n"
     ]
    }
   ],
   "source": [
    "cd=r'C:\\Users\\hp\\Downloads\\chromedriver_win32\\chromedriver(1)'\n",
    "browser=webdriver.Chrome(cd)\n",
    "\n",
    "browser.get('https://twitter.com/explore/tabs/trending')\n",
    "time.sleep(15)\n",
    "sp=browser.find_elements_by_tag_name('span')\n",
    "fl=[]\n",
    "for i in sp:\n",
    "    a=i.get_attribute('textContent')\n",
    "    if (a.startswith('#')):\n",
    "        if a not in fl:\n",
    "            fl.append(a)\n",
    "\n",
    "urls=[]\n",
    "for i in fl:\n",
    "    i=i[1:]\n",
    "    url='https://twitter.com/search?q=%23'+i+'&src=trend_click'\n",
    "    urls.append(url)\n",
    "\n",
    "dic={'HashTag':fl,'URL':urls}\n",
    "\n",
    "df=pd.DataFrame(dic)\n",
    "df.to_csv(\"C:\\\\Users\\\\hp\\\\Twitter_HT.csv\",index=False)\n",
    "print(\"The data is stored\")"
   ]
  },
  {
   "cell_type": "code",
   "execution_count": null,
   "metadata": {},
   "outputs": [],
   "source": []
  }
 ],
 "metadata": {
  "kernelspec": {
   "display_name": "Python 3",
   "language": "python",
   "name": "python3"
  },
  "language_info": {
   "codemirror_mode": {
    "name": "ipython",
    "version": 3
   },
   "file_extension": ".py",
   "mimetype": "text/x-python",
   "name": "python",
   "nbconvert_exporter": "python",
   "pygments_lexer": "ipython3",
   "version": "3.7.6"
  }
 },
 "nbformat": 4,
 "nbformat_minor": 4
}
