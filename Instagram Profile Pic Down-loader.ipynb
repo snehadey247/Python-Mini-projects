{
 "cells": [
  {
   "cell_type": "code",
   "execution_count": 3,
   "metadata": {},
   "outputs": [],
   "source": [
    "from selenium import webdriver "
   ]
  },
  {
   "cell_type": "code",
   "execution_count": 4,
   "metadata": {},
   "outputs": [
    {
     "name": "stdout",
     "output_type": "stream",
     "text": [
      "Enter the user handle of the profile: erratic_saga\n",
      "The profile pic has been downloaded at: E:\\erratic_saga.jpg\n"
     ]
    }
   ],
   "source": [
    "cd=r'C:\\Users\\hp\\Downloads\\chromedriver_win32\\chromedriver(1)'\n",
    "\n",
    "driver = webdriver.Chrome(cd) \n",
    "\n",
    "user_h=input(\"Enter the user handle of the profile: \")\n",
    "url='https://www.instagram.com/'\n",
    "url_p=url+user_h\n",
    "\n",
    "#open the profile\n",
    "driver.get(url_p)\n",
    "\n",
    "\n",
    "try:\n",
    "    image=driver.find_element_by_xpath('//img[@class=\"_6q-tv\"]')\n",
    "except:\n",
    "    image=driver.find_element_by_xpath('//img[@class=\"be6sR\"]')\n",
    "\n",
    "\n",
    "img_link=image.get_attribute('src')\n",
    "\n",
    "\n",
    "path=\"E:\\\\\"+user_h+\".jpg\"\n",
    "\n",
    "import urllib.request\n",
    "\n",
    "urllib.request.urlretrieve(img_link,path)\n",
    "\n",
    "print(\"The profile pic has been downloaded at: \"+path)"
   ]
  },
  {
   "cell_type": "code",
   "execution_count": null,
   "metadata": {},
   "outputs": [],
   "source": []
  }
 ],
 "metadata": {
  "kernelspec": {
   "display_name": "Python 3",
   "language": "python",
   "name": "python3"
  },
  "language_info": {
   "codemirror_mode": {
    "name": "ipython",
    "version": 3
   },
   "file_extension": ".py",
   "mimetype": "text/x-python",
   "name": "python",
   "nbconvert_exporter": "python",
   "pygments_lexer": "ipython3",
   "version": "3.7.6"
  }
 },
 "nbformat": 4,
 "nbformat_minor": 4
}
