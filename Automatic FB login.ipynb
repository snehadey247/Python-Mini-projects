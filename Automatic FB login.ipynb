{
 "cells": [
  {
   "cell_type": "code",
   "execution_count": 2,
   "metadata": {},
   "outputs": [],
   "source": [
    "from selenium import webdriver\n",
    "import time\n",
    "from selenium.webdriver.common.keys import Keys\n",
    "import getpass"
   ]
  },
  {
   "cell_type": "code",
   "execution_count": 3,
   "metadata": {},
   "outputs": [
    {
     "name": "stdout",
     "output_type": "stream",
     "text": [
      "Enter User Id of your Fb Account :snehadey247@gmail.com\n",
      "Enter the password :········\n"
     ]
    }
   ],
   "source": [
    "user_id=input('Enter User Id of your Fb Account :')  # Take user id and password as input from the user\n",
    "password=getpass.getpass('Enter the password :')\n",
    "\n",
    "#print(user_id)\n",
    "#print(password)\n",
    "\n",
    "cd=r'C:\\Users\\hp\\Downloads\\chromedriver_win32\\chromedriver(1)' #path to your chrome driver\n",
    "\n",
    "\n",
    "browser= webdriver.Chrome(cd)\n",
    "browser.get('https://www.facebook.com/')\n",
    "\n",
    "user_box = browser.find_element_by_id(\"email\")       # For detecting the user id box\n",
    "user_box.send_keys(user_id)                                               # Enter the user id in the box \n",
    "\n",
    "password_box = browser.find_element_by_id(\"pass\")    # For detecting the password box\n",
    "password_box.send_keys(password)                                          # For detecting the password in the box\n",
    "\n",
    "login_box = browser.find_element_by_id(\"u_0_b\")      # For detecting the Login button\n",
    "login_box.click()"
   ]
  },
  {
   "cell_type": "code",
   "execution_count": null,
   "metadata": {},
   "outputs": [],
   "source": []
  }
 ],
 "metadata": {
  "kernelspec": {
   "display_name": "Python 3",
   "language": "python",
   "name": "python3"
  },
  "language_info": {
   "codemirror_mode": {
    "name": "ipython",
    "version": 3
   },
   "file_extension": ".py",
   "mimetype": "text/x-python",
   "name": "python",
   "nbconvert_exporter": "python",
   "pygments_lexer": "ipython3",
   "version": "3.7.6"
  }
 },
 "nbformat": 4,
 "nbformat_minor": 4
}
